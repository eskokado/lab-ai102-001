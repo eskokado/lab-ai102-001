{
  "nbformat": 4,
  "nbformat_minor": 0,
  "metadata": {
    "colab": {
      "provenance": [],
      "authorship_tag": "ABX9TyNO+9/aoZfG7uTTd0C9qmuY",
      "include_colab_link": true
    },
    "kernelspec": {
      "name": "python3",
      "display_name": "Python 3"
    },
    "language_info": {
      "name": "python"
    }
  },
  "cells": [
    {
      "cell_type": "markdown",
      "metadata": {
        "id": "view-in-github",
        "colab_type": "text"
      },
      "source": [
        "<a href=\"https://colab.research.google.com/github/eskokado/lab-ai102-001/blob/main/TestandoAiAzureComOpenAiTranslators.ipynb\" target=\"_parent\"><img src=\"https://colab.research.google.com/assets/colab-badge.svg\" alt=\"Open In Colab\"/></a>"
      ]
    },
    {
      "cell_type": "code",
      "execution_count": 4,
      "metadata": {
        "colab": {
          "base_uri": "https://localhost:8080/"
        },
        "id": "o8rWj7flACc6",
        "outputId": "fe695088-affe-44bc-ba59-9f12c5975075"
      },
      "outputs": [
        {
          "output_type": "stream",
          "name": "stdout",
          "text": [
            "Requirement already satisfied: requests in /usr/local/lib/python3.10/dist-packages (2.32.3)\n",
            "Collecting python-docx\n",
            "  Downloading python_docx-1.1.2-py3-none-any.whl.metadata (2.0 kB)\n",
            "Requirement already satisfied: charset-normalizer<4,>=2 in /usr/local/lib/python3.10/dist-packages (from requests) (3.4.0)\n",
            "Requirement already satisfied: idna<4,>=2.5 in /usr/local/lib/python3.10/dist-packages (from requests) (3.10)\n",
            "Requirement already satisfied: urllib3<3,>=1.21.1 in /usr/local/lib/python3.10/dist-packages (from requests) (2.2.3)\n",
            "Requirement already satisfied: certifi>=2017.4.17 in /usr/local/lib/python3.10/dist-packages (from requests) (2024.8.30)\n",
            "Requirement already satisfied: lxml>=3.1.0 in /usr/local/lib/python3.10/dist-packages (from python-docx) (5.3.0)\n",
            "Requirement already satisfied: typing-extensions>=4.9.0 in /usr/local/lib/python3.10/dist-packages (from python-docx) (4.12.2)\n",
            "Downloading python_docx-1.1.2-py3-none-any.whl (244 kB)\n",
            "\u001b[2K   \u001b[90m━━━━━━━━━━━━━━━━━━━━━━━━━━━━━━━━━━━━━━━━\u001b[0m \u001b[32m244.3/244.3 kB\u001b[0m \u001b[31m3.2 MB/s\u001b[0m eta \u001b[36m0:00:00\u001b[0m\n",
            "\u001b[?25hInstalling collected packages: python-docx\n",
            "Successfully installed python-docx-1.1.2\n"
          ]
        }
      ],
      "source": [
        "!pip install requests python-docx\n"
      ]
    },
    {
      "cell_type": "code",
      "source": [
        "import requests\n",
        "from docx import Document\n",
        "import os\n",
        "\n",
        "subscription_key = \"A8Ilgok40tCl0naFt9Np05WLLYTqJCpfyooQUBSv900NdvObI4pZJQQJ99AKACYeBjFXJ3w3AAAbACOG3xRb\"\n",
        "endpoint = 'https://api.cognitive.microsofttranslator.com/'\n",
        "location = 'eastus'\n",
        "target_language = 'pt-br'\n",
        "\n",
        "def tranlator_text(text, target_language):\n",
        "    path = 'translate'\n",
        "    constructed_url = endpoint + path  # Certifique-se de que a barra está presente\n",
        "    headers = {\n",
        "        'Ocp-Apim-Subscription-Key': subscription_key,\n",
        "        'Ocp-Apim-Subscription-Region': location,\n",
        "        'Content-type': 'application/json',\n",
        "        'X-ClientTraceId': str(os.urandom(16).hex())  # Corrigido para gerar um UUID válido\n",
        "    }\n",
        "\n",
        "    body = [{\n",
        "        'text': text\n",
        "    }]\n",
        "\n",
        "    params = {\n",
        "        'api-version': '3.0',\n",
        "        'from': 'en',\n",
        "        'to': [target_language]\n",
        "    }\n",
        "\n",
        "    try:\n",
        "        request = requests.post(constructed_url, params=params, headers=headers, json=body)\n",
        "        request.raise_for_status()  # Verifica se houve erros HTTP\n",
        "        response = request.json()\n",
        "        return response[0]['translations'][0]['text']\n",
        "    except requests.exceptions.RequestException as e:\n",
        "        print(f\"Erro ao conectar à API: {e}\")\n",
        "        return None\n",
        "\n"
      ],
      "metadata": {
        "id": "2fap8c6FB1Is"
      },
      "execution_count": 8,
      "outputs": []
    },
    {
      "cell_type": "code",
      "source": [
        "tranlator_text(\"I know you're somewhere out there\", \"pt-br\")"
      ],
      "metadata": {
        "colab": {
          "base_uri": "https://localhost:8080/",
          "height": 35
        },
        "id": "Kx7Mg_0zI5bn",
        "outputId": "327f0cf1-1eaa-4f4d-a648-c663758bbb02"
      },
      "execution_count": 9,
      "outputs": [
        {
          "output_type": "execute_result",
          "data": {
            "text/plain": [
              "'Eu sei que você está em algum lugar lá fora'"
            ],
            "application/vnd.google.colaboratory.intrinsic+json": {
              "type": "string"
            }
          },
          "metadata": {},
          "execution_count": 9
        }
      ]
    },
    {
      "cell_type": "code",
      "source": [
        "def translator_text_file(file_path, target_language):\n",
        "    translated_lines = []  # Lista para armazenar as linhas traduzidas\n",
        "\n",
        "    # Abrir o arquivo em modo de leitura\n",
        "    with open(file_path, 'r', encoding='utf-8') as file:\n",
        "        for line in file:\n",
        "            line = line.strip()  # Remover espaços extras e quebras de linha\n",
        "            if line:  # Verificar se a linha não está vazia\n",
        "                try:\n",
        "                    translated_line = tranlator_text(line, target_language)\n",
        "                    translated_lines.append(translated_line)\n",
        "                except Exception as e:\n",
        "                    print(f\"Erro ao traduzir a linha: {line[:30]}... {e}\")\n",
        "                    translated_lines.append(line)  # Adicionar linha original em caso de erro\n",
        "            else:\n",
        "                translated_lines.append(\"\")  # Preservar linhas vazias\n",
        "\n",
        "    return translated_lines\n"
      ],
      "metadata": {
        "id": "eWZB0R1LNBt8"
      },
      "execution_count": 12,
      "outputs": []
    },
    {
      "cell_type": "code",
      "source": [
        "translator_text_file('/home/dio/ai-102/music.txt', target_language)"
      ],
      "metadata": {
        "colab": {
          "base_uri": "https://localhost:8080/"
        },
        "id": "d1lIlk8qO8GM",
        "outputId": "6a1714e8-e23b-4b7c-bd6f-1a210e408ebe"
      },
      "execution_count": 15,
      "outputs": [
        {
          "output_type": "execute_result",
          "data": {
            "text/plain": [
              "['Eu sei que você está em algum lugar lá fora',\n",
              " 'Em algum lugar distante',\n",
              " 'Eu quero você de volta',\n",
              " 'Eu quero você de volta',\n",
              " '',\n",
              " 'Meus vizinhos acham que eu sou louco',\n",
              " 'Mas eles não entendem',\n",
              " 'Você é tudo que eu tinha',\n",
              " 'Você é tudo que eu tinha']"
            ]
          },
          "metadata": {},
          "execution_count": 15
        }
      ]
    },
    {
      "cell_type": "code",
      "source": [],
      "metadata": {
        "id": "D1YEAHHEWdyM"
      },
      "execution_count": null,
      "outputs": []
    }
  ]
}